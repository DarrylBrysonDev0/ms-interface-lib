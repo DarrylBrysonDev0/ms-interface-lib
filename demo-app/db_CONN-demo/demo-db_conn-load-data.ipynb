{
 "cells": [
  {
   "cell_type": "markdown",
   "metadata": {},
   "source": [
    "# Demo of SQL DB Interface Using db_CONN Class "
   ]
  },
  {
   "cell_type": "markdown",
   "metadata": {},
   "source": [
    "## Requirements\n",
    "- Custom library: microsrv_interface.comm_interface\n",
    "    - Classes: db_CONN, set_env_param\n",
    "- pysftp==0.2.9\n",
    "- pika==1.1.0\n",
    "- path==14.0.1\n",
    "- pyodbc==4.0.30\n",
    "- pandas==1.2.1"
   ]
  },
  {
   "cell_type": "code",
   "execution_count": 9,
   "metadata": {},
   "outputs": [],
   "source": [
    "import os\n",
    "import sys\n",
    "import traceback\n",
    "import time\n",
    "import pandas as pd\n",
    "import json"
   ]
  },
  {
   "cell_type": "code",
   "execution_count": 10,
   "metadata": {},
   "outputs": [],
   "source": [
    "# Custom handeler libray \n",
    "# Maintained by Darryl Bryson\n",
    "# Repo: https://github.com/DarrylBrysonDev0/ms-interface-lib.git\n",
    "\n",
    "from microsrv_interface.comm_interface import db_CONN, set_env_param"
   ]
  },
  {
   "cell_type": "markdown",
   "metadata": {},
   "source": [
    "Load sample data from csv to dataframe"
   ]
  },
  {
   "cell_type": "code",
   "execution_count": 11,
   "metadata": {},
   "outputs": [
    {
     "data": {
      "text/html": [
       "<div>\n",
       "<style scoped>\n",
       "    .dataframe tbody tr th:only-of-type {\n",
       "        vertical-align: middle;\n",
       "    }\n",
       "\n",
       "    .dataframe tbody tr th {\n",
       "        vertical-align: top;\n",
       "    }\n",
       "\n",
       "    .dataframe thead th {\n",
       "        text-align: right;\n",
       "    }\n",
       "</style>\n",
       "<table border=\"1\" class=\"dataframe\">\n",
       "  <thead>\n",
       "    <tr style=\"text-align: right;\">\n",
       "      <th></th>\n",
       "      <th>machine_id</th>\n",
       "      <th>test_id</th>\n",
       "      <th>technician</th>\n",
       "      <th>test_routine</th>\n",
       "      <th>batched</th>\n",
       "      <th>loc_1_x_offset</th>\n",
       "      <th>loc_1_y_offset</th>\n",
       "      <th>loc_1_z_offset</th>\n",
       "      <th>loc_2_x_offset</th>\n",
       "      <th>loc_2_y_offset</th>\n",
       "      <th>loc_2_z_offset</th>\n",
       "    </tr>\n",
       "  </thead>\n",
       "  <tbody>\n",
       "    <tr>\n",
       "      <th>0</th>\n",
       "      <td>Machine_13</td>\n",
       "      <td>15ce86ab99b3490c96ee855c8347e66b</td>\n",
       "      <td>Jennifer Green</td>\n",
       "      <td>[d, f, c, b, e]</td>\n",
       "      <td>NaN</td>\n",
       "      <td>14.27</td>\n",
       "      <td>0.295528</td>\n",
       "      <td>3072</td>\n",
       "      <td>10.12</td>\n",
       "      <td>0.953938</td>\n",
       "      <td>4681</td>\n",
       "    </tr>\n",
       "    <tr>\n",
       "      <th>1</th>\n",
       "      <td>Machine_23</td>\n",
       "      <td>efabe31a552649698f04c5e251a88112</td>\n",
       "      <td>Stephanie Collins</td>\n",
       "      <td>[a, c, d, e, f, b]</td>\n",
       "      <td>No</td>\n",
       "      <td>-4.78</td>\n",
       "      <td>0.579363</td>\n",
       "      <td>4453</td>\n",
       "      <td>0.66</td>\n",
       "      <td>0.653040</td>\n",
       "      <td>4747</td>\n",
       "    </tr>\n",
       "    <tr>\n",
       "      <th>2</th>\n",
       "      <td>Machine_01</td>\n",
       "      <td>876c727a38274fe59353a76289553a6a</td>\n",
       "      <td>Ryan Page</td>\n",
       "      <td>[f, a, d, b, e, c]</td>\n",
       "      <td>NaN</td>\n",
       "      <td>13.80</td>\n",
       "      <td>0.961564</td>\n",
       "      <td>4824</td>\n",
       "      <td>-7.30</td>\n",
       "      <td>0.842194</td>\n",
       "      <td>4724</td>\n",
       "    </tr>\n",
       "    <tr>\n",
       "      <th>3</th>\n",
       "      <td>Machine_15</td>\n",
       "      <td>84f2c6cb19a04fa0ad9dd135ca10b7af</td>\n",
       "      <td>Willie Golden</td>\n",
       "      <td>[a, c, e, d]</td>\n",
       "      <td>Yes</td>\n",
       "      <td>3.42</td>\n",
       "      <td>0.838260</td>\n",
       "      <td>4970</td>\n",
       "      <td>3.75</td>\n",
       "      <td>0.466604</td>\n",
       "      <td>2875</td>\n",
       "    </tr>\n",
       "    <tr>\n",
       "      <th>4</th>\n",
       "      <td>Machine_20</td>\n",
       "      <td>76faffd74aab4d189876df0249fb3a87</td>\n",
       "      <td>Emily Allen</td>\n",
       "      <td>[b, f]</td>\n",
       "      <td>Yes</td>\n",
       "      <td>5.84</td>\n",
       "      <td>0.499678</td>\n",
       "      <td>2782</td>\n",
       "      <td>-12.86</td>\n",
       "      <td>0.919360</td>\n",
       "      <td>3112</td>\n",
       "    </tr>\n",
       "  </tbody>\n",
       "</table>\n",
       "</div>"
      ],
      "text/plain": [
       "   machine_id                           test_id         technician  \\\n",
       "0  Machine_13  15ce86ab99b3490c96ee855c8347e66b     Jennifer Green   \n",
       "1  Machine_23  efabe31a552649698f04c5e251a88112  Stephanie Collins   \n",
       "2  Machine_01  876c727a38274fe59353a76289553a6a          Ryan Page   \n",
       "3  Machine_15  84f2c6cb19a04fa0ad9dd135ca10b7af      Willie Golden   \n",
       "4  Machine_20  76faffd74aab4d189876df0249fb3a87        Emily Allen   \n",
       "\n",
       "         test_routine batched  loc_1_x_offset  loc_1_y_offset  loc_1_z_offset  \\\n",
       "0     [d, f, c, b, e]     NaN           14.27        0.295528            3072   \n",
       "1  [a, c, d, e, f, b]      No           -4.78        0.579363            4453   \n",
       "2  [f, a, d, b, e, c]     NaN           13.80        0.961564            4824   \n",
       "3        [a, c, e, d]     Yes            3.42        0.838260            4970   \n",
       "4              [b, f]     Yes            5.84        0.499678            2782   \n",
       "\n",
       "   loc_2_x_offset  loc_2_y_offset  loc_2_z_offset  \n",
       "0           10.12        0.953938            4681  \n",
       "1            0.66        0.653040            4747  \n",
       "2           -7.30        0.842194            4724  \n",
       "3            3.75        0.466604            2875  \n",
       "4          -12.86        0.919360            3112  "
      ]
     },
     "execution_count": 11,
     "metadata": {},
     "output_type": "execute_result"
    }
   ],
   "source": [
    "sample_data_df = pd.read_csv('./data/sample_lab_measurement.csv') \n",
    "sample_data_df = sample_data_df.replace('\\'', '',regex=True)\n",
    "sample_data_df.head()"
   ]
  },
  {
   "cell_type": "markdown",
   "metadata": {},
   "source": [
    "## Set connection parameters"
   ]
  },
  {
   "cell_type": "code",
   "execution_count": 12,
   "metadata": {},
   "outputs": [],
   "source": [
    "# Target db table of load\n",
    "db_tbl_name = '[telem-dev-db].[dbo].[sample_lab_measurement]'"
   ]
  },
  {
   "cell_type": "code",
   "execution_count": 13,
   "metadata": {},
   "outputs": [],
   "source": [
    "# MS-SQL db connection details\n",
    "res_dic = {}\n",
    "res_dic['ServerAddr']='192.168.86.33'\n",
    "res_dic['DBName']='telem-dev-db'\n",
    "res_dic['UserName']='sa'\n",
    "res_dic['Password']='Testing1122'\n",
    "\n",
    "db_configData = json.dumps(res_dic)"
   ]
  },
  {
   "cell_type": "code",
   "execution_count": 14,
   "metadata": {},
   "outputs": [],
   "source": [
    "bufferSize = 1000"
   ]
  },
  {
   "cell_type": "markdown",
   "metadata": {},
   "source": [
    "## db_CONN Utilization\n",
    "db_CONN Class default configures to environment variables (for docker use cases)\n",
    "To compensate we reconfigure the instance:\n",
    "```python\n",
    "db_interface.configData = db_connStr\n",
    "db_interface.ingest_buffer_size = bufferSize\n",
    "db_interface.IS_VERBOSE = True\n",
    "```\n",
    "**Parameters**\n",
    "- configData => MS SQL connection string as JSON object\n",
    "- ingest_buffer_size => Insert buffer size (Greatly effects overall load time)\n",
    "- IS_VERBOSE => Get process details"
   ]
  },
  {
   "cell_type": "code",
   "execution_count": 15,
   "metadata": {},
   "outputs": [],
   "source": [
    "def main(dataDF, db_connStr, targetTBL, bufferSize):\n",
    "    # Set Database interface\n",
    "    db_interface = db_CONN()\n",
    "\n",
    "    try:\n",
    "        # Connect to Database\n",
    "        print(' [*] Connecting to database')\n",
    "        with db_interface as db_conn:\n",
    "            print(' [+] Connected to database')\n",
    "\n",
    "            # Load dataframe\n",
    "            df = dataDF\n",
    "            \n",
    "            # Reconfigure connection parameters\n",
    "            # Default db_CONN configures \n",
    "            db_interface.configData = db_connStr\n",
    "            db_interface.ingest_buffer_size = bufferSize\n",
    "            db_interface.IS_VERBOSE = True\n",
    "            \n",
    "            # Set dataframe property\n",
    "            db_interface.set_df(df,targetTBL)\n",
    "\n",
    "            # Write dataframe to linked database table\n",
    "            row_cnt = db_interface.insert_dataframe()\n",
    "            print(' [*] Total records writen: {0}'.format(row_cnt))\n",
    "            print()\n",
    "            \n",
    "    except Exception as err:\n",
    "        print()\n",
    "        print(\"An error occurred while executing main proc.\")\n",
    "        print(str(err))\n",
    "        traceback.print_tb(err.__traceback__)\n",
    "    return"
   ]
  },
  {
   "cell_type": "code",
   "execution_count": 16,
   "metadata": {},
   "outputs": [
    {
     "name": "stdout",
     "output_type": "stream",
     "text": [
      " [*] Connecting to database\n",
      " [+] Connected to database\n",
      " [*] Starting db write\n",
      "Connection established\n",
      " [+] Buffer reached\n",
      " [I] Row index: 1000\n",
      " [+] Buffer reached\n",
      " [I] Row index: 2000\n",
      " [+] Buffer reached\n",
      " [I] Row index: 3000\n",
      " [+] Buffer reached\n",
      " [I] Row index: 4000\n",
      " [+] Buffer reached\n",
      " [I] Row index: 5000\n",
      " [+] Buffer reached\n",
      " [I] Row index: 6000\n",
      " [+] Buffer reached\n",
      " [I] Row index: 7000\n",
      " [+] Buffer reached\n",
      " [I] Row index: 8000\n",
      " [+] Buffer reached\n",
      " [I] Row index: 9000\n",
      " [+] Buffer reached\n",
      " [*] EOD reached\n",
      " [I] Row index: 10000\n",
      "Results written in: 2.200498580932617\n",
      " [*] Total records writen: 10000\n",
      "\n"
     ]
    }
   ],
   "source": [
    "# Execute main method\n",
    "main(sample_data_df, db_configData, db_tbl_name, bufferSize)"
   ]
  }
 ],
 "metadata": {
  "kernelspec": {
   "display_name": "Python 3",
   "language": "python",
   "name": "python3"
  },
  "language_info": {
   "codemirror_mode": {
    "name": "ipython",
    "version": 3
   },
   "file_extension": ".py",
   "mimetype": "text/x-python",
   "name": "python",
   "nbconvert_exporter": "python",
   "pygments_lexer": "ipython3",
   "version": "3.8.3"
  }
 },
 "nbformat": 4,
 "nbformat_minor": 4
}
